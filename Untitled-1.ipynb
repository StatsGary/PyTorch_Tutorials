{
 "cells": [
  {
   "cell_type": "code",
   "execution_count": 1,
   "metadata": {},
   "outputs": [],
   "source": [
    "import pandas as pd\n",
    "import numpy as np\n",
    "from collections import Counter\n",
    "from sklearn.model_selection import train_test_split\n",
    "from sklearn.preprocessing import LabelEncoder\n",
    "import torch\n",
    "from torch.utils.data import Dataset, DataLoader\n",
    "import torch.optim as torch_optim\n",
    "import torch.nn as nn\n",
    "import torch.nn.functional as F\n",
    "from torchvision import models\n",
    "from datetime import datetime\n",
    "import os"
   ]
  },
  {
   "cell_type": "code",
   "execution_count": null,
   "metadata": {},
   "outputs": [],
   "source": [
    "from sklearn.model_selection import train_test_split\n",
    "def load_and_split(path,test_size=0.2):  \n",
    "    try:\n",
    "        print(f'[INFO] Loading data from GCS:{path}')  \n",
    "        path=path\n",
    "        df = pd.read_csv(path, sep=',')\n",
    "        df = df.dropna()\n",
    "        train, test = train_test_split(df, test_size=test_size)\n",
    "        #Store train and test splits as CSV - might need to change\n",
    "        print(f'[INFO] pushing training and testing splits to: {gcs_store}')\n",
    "        train.to_csv(os.path.join(gcs_store, 'train.csv'), index=False)\n",
    "        test.to_csv(os.path.join(gcs_store, 'test.csv'), index=False)\n",
    "        return train, test\n",
    "    except:\n",
    "        print('Error loading data from Cloud storage, or error saving')"
   ]
  }
 ],
 "metadata": {
  "interpreter": {
   "hash": "92c9f56e7a4fd721f9baef38bcdf25b30d0e78c89f6fb2c3207e6b27a13e62be"
  },
  "kernelspec": {
   "display_name": "Python 3.8.13 ('transformers-robots')",
   "language": "python",
   "name": "python3"
  },
  "language_info": {
   "codemirror_mode": {
    "name": "ipython",
    "version": 3
   },
   "file_extension": ".py",
   "mimetype": "text/x-python",
   "name": "python",
   "nbconvert_exporter": "python",
   "pygments_lexer": "ipython3",
   "version": "3.8.13"
  },
  "orig_nbformat": 4
 },
 "nbformat": 4,
 "nbformat_minor": 2
}
