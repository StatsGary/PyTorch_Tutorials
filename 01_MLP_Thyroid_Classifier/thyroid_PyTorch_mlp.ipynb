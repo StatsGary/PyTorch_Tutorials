{
 "cells": [
  {
   "cell_type": "code",
   "execution_count": 1,
   "metadata": {},
   "outputs": [],
   "source": [
    "import pandas as pd\n",
    "import numpy as np\n",
    "from collections import Counter\n",
    "from sklearn.model_selection import train_test_split\n",
    "from sklearn.preprocessing import LabelEncoder\n",
    "import torch\n",
    "from torch.utils.data import Dataset, DataLoader\n",
    "import torch.optim as torch_optim\n",
    "import torch.nn as nn\n",
    "import torch.nn.functional as F\n",
    "from torchvision import models\n",
    "from datetime import datetime\n",
    "import os"
   ]
  },
  {
   "cell_type": "code",
   "execution_count": 27,
   "metadata": {},
   "outputs": [
    {
     "name": "stdout",
     "output_type": "stream",
     "text": [
      "[INFO] Dummy encoding ['ref_src']\n",
      "[INFO] Splitting data by split ratio: 0.1\n",
      "[INFO] train dataset saved to: data/\n",
      "[INFO] test dataset saved to: data/\n"
     ]
    }
   ],
   "source": [
    "from sklearn.model_selection import train_test_split\n",
    "\n",
    "def load_dummy_and_split(path, dummy_cols, split_ratio=0.2, destination_path='data/'):\n",
    "    dataset = pd.read_csv(path).drop(['ID'],axis=1).dropna()\n",
    "    # Dummy encode\n",
    "    print(f'[INFO] Dummy encoding {dummy_cols}')\n",
    "    dataset = pd.get_dummies(dataset, columns=dummy_cols)\n",
    "    train, test = train_test_split(dataset, test_size=split_ratio)\n",
    "    print(f'[INFO] Splitting data by split ratio: {split_ratio}')\n",
    "    train.to_csv(os.path.join(destination_path, 'train.csv'))\n",
    "    print(f'[INFO] train dataset saved to: {destination_path}')\n",
    "    test.to_csv(os.path.join(destination_path, 'test.csv'))\n",
    "    print(f'[INFO] test dataset saved to: {destination_path}')\n",
    "    return dataset, train, test\n",
    "\n",
    "\n",
    "# Unpack train and test dataset, ignoring the original dataset\n",
    "dataset, train, test = load_dummy_and_split('data/thyroid.csv', \n",
    "                                      dummy_cols=['ref_src'],\n",
    "                                      split_ratio=0.1)\n",
    "\n"
   ]
  },
  {
   "cell_type": "code",
   "execution_count": 39,
   "metadata": {},
   "outputs": [
    {
     "name": "stdout",
     "output_type": "stream",
     "text": [
      "Index(['patient_age', 'patient_gender', 'presc_thyroxine',\n",
      "       'queried_why_on_thyroxine', 'presc_anthyroid_meds', 'sick', 'pregnant',\n",
      "       'thyroid_surgery', 'radioactive_iodine_therapyI131',\n",
      "       'query_hypothyroid', 'query_hyperthyroid', 'lithium', 'goitre', 'tumor',\n",
      "       'hypopituitarism', 'psych_condition', 'TSH_measured', 'TSH_reading',\n",
      "       'T3_measured', 'T3_reading', 'T4_measured', 'T4_reading',\n",
      "       'thyrox_util_rate_T4U_measured', 'thyrox_util_rate_T4U_reading',\n",
      "       'FTI_measured', 'FTI_reading', 'ref_src_STMW', 'ref_src_SVHC',\n",
      "       'ref_src_SVHD', 'ref_src_SVI', 'ref_src_other'],\n",
      "      dtype='object')\n"
     ]
    }
   ],
   "source": [
    "y_colname = 'ThryroidClass'\n",
    "X = dataset.drop(y_colname, axis=1)\n",
    "print(X.columns)\n",
    "Y = dataset[y_colname]\n",
    "Y = LabelEncoder().fit_transform(Y)\n",
    "y_train = (train[y_colname] == 'sick').astype(int)\n",
    "x_train = train.drop(y_colname, axis=1)\n",
    "y_test = (test[y_colname] == 'sick').astype(int)\n",
    "x_test = test.drop(y_colname, axis=1) \n",
    "\n",
    "\n"
   ]
  },
  {
   "cell_type": "code",
   "execution_count": 48,
   "metadata": {},
   "outputs": [
    {
     "name": "stdout",
     "output_type": "stream",
     "text": [
      "2475\n"
     ]
    }
   ],
   "source": [
    "class ThyroidDataset(Dataset):\n",
    "    def __init__(self, X, Y):\n",
    "        X = X.copy()\n",
    "        self.x = X\n",
    "        self.y = Y\n",
    "\n",
    "    def __len__(self):\n",
    "        return len(self.y)\n",
    "\n",
    "    def __getitem__(self, idx):\n",
    "        return self.y[idx]\n",
    "\n",
    "\n",
    "# Create train and valid datasets\n",
    "train_ds = ThyroidDataset(x_train, y_train)\n",
    "test_df = ThyroidDataset(x_test, y_test)\n",
    "\n"
   ]
  },
  {
   "cell_type": "code",
   "execution_count": 50,
   "metadata": {},
   "outputs": [
    {
     "data": {
      "text/plain": [
       "device(type='cuda')"
      ]
     },
     "execution_count": 50,
     "metadata": {},
     "output_type": "execute_result"
    }
   ],
   "source": [
    "# Make device GPU compatible\n",
    "def get_default_device():\n",
    "    \"\"\"Pick GPU if available, else CPU\"\"\"\n",
    "    if torch.cuda.is_available():\n",
    "        return torch.device('cuda')\n",
    "    else:\n",
    "        return torch.device('cpu')\n",
    "\n",
    "get_default_device()"
   ]
  },
  {
   "cell_type": "code",
   "execution_count": 51,
   "metadata": {},
   "outputs": [],
   "source": [
    "def to_device(data, device):\n",
    "    \"\"\"Move tensor(s) to chosen device\"\"\"\n",
    "    if isinstance(data, (list,tuple)):\n",
    "        return [to_device(x, device) for x in data]\n",
    "    return data.to(device, non_blocking=True)\n",
    "\n",
    "\n",
    "class DeviceDataLoader():\n",
    "    \"\"\"Wrap a dataloader to move data to a device\"\"\"\n",
    "    def __init__(self, dl, device):\n",
    "        self.dl = dl\n",
    "        self.device = device\n",
    "        \n",
    "    def __iter__(self):\n",
    "        \"\"\"Yield a batch of data after moving it to device\"\"\"\n",
    "        for b in self.dl: \n",
    "            yield to_device(b, self.device)\n",
    "\n",
    "    def __len__(self):\n",
    "        \"\"\"Number of batches\"\"\"\n",
    "        return len(self.dl)"
   ]
  }
 ],
 "metadata": {
  "interpreter": {
   "hash": "92c9f56e7a4fd721f9baef38bcdf25b30d0e78c89f6fb2c3207e6b27a13e62be"
  },
  "kernelspec": {
   "display_name": "Python 3.8.13 ('transformers-robots')",
   "language": "python",
   "name": "python3"
  },
  "language_info": {
   "codemirror_mode": {
    "name": "ipython",
    "version": 3
   },
   "file_extension": ".py",
   "mimetype": "text/x-python",
   "name": "python",
   "nbconvert_exporter": "python",
   "pygments_lexer": "ipython3",
   "version": "3.8.13"
  },
  "orig_nbformat": 4
 },
 "nbformat": 4,
 "nbformat_minor": 2
}
