{
 "cells": [
  {
   "cell_type": "code",
   "execution_count": 5,
   "metadata": {},
   "outputs": [],
   "source": [
    "from numpy import vstack\n",
    "from pandas import read_csv\n",
    "import pandas as pd\n",
    "from sklearn.preprocessing import LabelEncoder\n",
    "from sklearn.metrics import accuracy_score\n",
    "from torch.utils.data import Dataset\n",
    "from torch.utils.data import DataLoader\n",
    "from torch.utils.data import random_split\n",
    "from torch import Tensor\n",
    "from torch.nn import Linear\n",
    "from torch.nn import ReLU\n",
    "from torch.nn import Sigmoid\n",
    "from torch.nn import Module\n",
    "from torch.optim import SGD\n",
    "from torch.nn import BCELoss\n",
    "from torch.nn.init import kaiming_uniform_"
   ]
  },
  {
   "cell_type": "code",
   "execution_count": 21,
   "metadata": {},
   "outputs": [],
   "source": [
    "thyroid = pd.read_csv('data/thyroid.csv').drop('Unnamed: 0', axis=1)\n",
    "thyroid.to_csv('data/thyroid_new.csv')"
   ]
  },
  {
   "cell_type": "code",
   "execution_count": 22,
   "metadata": {},
   "outputs": [],
   "source": [
    "# Create a custom CSVDataset loader\n",
    "# https://machinelearningmastery.com/pytorch-tutorial-develop-deep-learning-models/\n",
    "class ThryoidCSVDataset(Dataset):\n",
    "    #Constructor for initially loading\n",
    "    def __init__(self,path):\n",
    "        df = read_csv(path, header=None)\n",
    "        # Store the inputs and outputs\n",
    "        self.X = df.values[:, :-1]\n",
    "        self.y = df.values[:, -1] #Assuming your outcome variable is in the first column\n",
    "        self.X = self.X.astype('float32')\n",
    "        # Label encode the target as values 1 and 0 or sick and not sick\n",
    "        self.y = LabelEncoder().fit_transform(self.y)\n",
    "        self.y = self.y.astype('float32')\n",
    "        self.y = self.y.reshape((len(self.y), 1))\n",
    "\n",
    "    # Get the number of rows in the dataset\n",
    "    def __len__(self):\n",
    "        return len(self.X)\n",
    "    # Get a row at an index\n",
    "    def __getitem__(self,idx):\n",
    "        return [self.X[idx], self.y[idx]]\n",
    "\n",
    "    # Create custom class method - instead of dunder methods\n",
    "    def split_data(self, split_ratio=0.2):\n",
    "        test_size = round(split_ratio * len(self.X))\n",
    "        train_size = len(self.X) - test_size\n",
    "        return random_split(self, [train_size, test_size])\n"
   ]
  },
  {
   "cell_type": "code",
   "execution_count": 23,
   "metadata": {},
   "outputs": [
    {
     "ename": "ValueError",
     "evalue": "could not convert string to float: 'ThryroidClass'",
     "output_type": "error",
     "traceback": [
      "\u001b[0;31m---------------------------------------------------------------------------\u001b[0m",
      "\u001b[0;31mValueError\u001b[0m                                Traceback (most recent call last)",
      "\u001b[1;32m/home/gary_hutson/git_environment/PyTorch_Tutorials/01_MLP_Thyroid_Classifier/thyroid_PyTorch_mlp_new.ipynb Cell 4'\u001b[0m in \u001b[0;36m<cell line: 2>\u001b[0;34m()\u001b[0m\n\u001b[1;32m      <a href='vscode-notebook-cell://ssh-remote%2B10.220.0.171/home/gary_hutson/git_environment/PyTorch_Tutorials/01_MLP_Thyroid_Classifier/thyroid_PyTorch_mlp_new.ipynb#ch0000007vscode-remote?line=0'>1</a>\u001b[0m \u001b[39m# Use our data class to prepare data\u001b[39;00m\n\u001b[0;32m----> <a href='vscode-notebook-cell://ssh-remote%2B10.220.0.171/home/gary_hutson/git_environment/PyTorch_Tutorials/01_MLP_Thyroid_Classifier/thyroid_PyTorch_mlp_new.ipynb#ch0000007vscode-remote?line=1'>2</a>\u001b[0m dataset \u001b[39m=\u001b[39m ThryoidCSVDataset(\u001b[39m'\u001b[39;49m\u001b[39mdata/thyroid.csv\u001b[39;49m\u001b[39m'\u001b[39;49m)\n",
      "\u001b[1;32m/home/gary_hutson/git_environment/PyTorch_Tutorials/01_MLP_Thyroid_Classifier/thyroid_PyTorch_mlp_new.ipynb Cell 3'\u001b[0m in \u001b[0;36mThryoidCSVDataset.__init__\u001b[0;34m(self, path)\u001b[0m\n\u001b[1;32m      <a href='vscode-notebook-cell://ssh-remote%2B10.220.0.171/home/gary_hutson/git_environment/PyTorch_Tutorials/01_MLP_Thyroid_Classifier/thyroid_PyTorch_mlp_new.ipynb#ch0000006vscode-remote?line=7'>8</a>\u001b[0m \u001b[39mself\u001b[39m\u001b[39m.\u001b[39mX \u001b[39m=\u001b[39m df\u001b[39m.\u001b[39mvalues[:, :\u001b[39m-\u001b[39m\u001b[39m1\u001b[39m]\n\u001b[1;32m      <a href='vscode-notebook-cell://ssh-remote%2B10.220.0.171/home/gary_hutson/git_environment/PyTorch_Tutorials/01_MLP_Thyroid_Classifier/thyroid_PyTorch_mlp_new.ipynb#ch0000006vscode-remote?line=8'>9</a>\u001b[0m \u001b[39mself\u001b[39m\u001b[39m.\u001b[39my \u001b[39m=\u001b[39m df\u001b[39m.\u001b[39mvalues[:, \u001b[39m-\u001b[39m\u001b[39m1\u001b[39m] \u001b[39m#Assuming your outcome variable is in the first column\u001b[39;00m\n\u001b[0;32m---> <a href='vscode-notebook-cell://ssh-remote%2B10.220.0.171/home/gary_hutson/git_environment/PyTorch_Tutorials/01_MLP_Thyroid_Classifier/thyroid_PyTorch_mlp_new.ipynb#ch0000006vscode-remote?line=9'>10</a>\u001b[0m \u001b[39mself\u001b[39m\u001b[39m.\u001b[39mX \u001b[39m=\u001b[39m \u001b[39mself\u001b[39;49m\u001b[39m.\u001b[39;49mX\u001b[39m.\u001b[39;49mastype(\u001b[39m'\u001b[39;49m\u001b[39mfloat\u001b[39;49m\u001b[39m'\u001b[39;49m)\n\u001b[1;32m     <a href='vscode-notebook-cell://ssh-remote%2B10.220.0.171/home/gary_hutson/git_environment/PyTorch_Tutorials/01_MLP_Thyroid_Classifier/thyroid_PyTorch_mlp_new.ipynb#ch0000006vscode-remote?line=10'>11</a>\u001b[0m \u001b[39m# Label encode the target as values 1 and 0 or sick and not sick\u001b[39;00m\n\u001b[1;32m     <a href='vscode-notebook-cell://ssh-remote%2B10.220.0.171/home/gary_hutson/git_environment/PyTorch_Tutorials/01_MLP_Thyroid_Classifier/thyroid_PyTorch_mlp_new.ipynb#ch0000006vscode-remote?line=11'>12</a>\u001b[0m \u001b[39mself\u001b[39m\u001b[39m.\u001b[39my \u001b[39m=\u001b[39m LabelEncoder()\u001b[39m.\u001b[39mfit_transform(\u001b[39mself\u001b[39m\u001b[39m.\u001b[39my)\n",
      "\u001b[0;31mValueError\u001b[0m: could not convert string to float: 'ThryroidClass'"
     ]
    }
   ],
   "source": [
    "# Use our data class to prepare data\n",
    "dataset = ThryoidCSVDataset('data/thyroid.csv')"
   ]
  }
 ],
 "metadata": {
  "interpreter": {
   "hash": "92c9f56e7a4fd721f9baef38bcdf25b30d0e78c89f6fb2c3207e6b27a13e62be"
  },
  "kernelspec": {
   "display_name": "Python 3.8.13 ('transformers-robots')",
   "language": "python",
   "name": "python3"
  },
  "language_info": {
   "codemirror_mode": {
    "name": "ipython",
    "version": 3
   },
   "file_extension": ".py",
   "mimetype": "text/x-python",
   "name": "python",
   "nbconvert_exporter": "python",
   "pygments_lexer": "ipython3",
   "version": "3.8.13"
  },
  "orig_nbformat": 4
 },
 "nbformat": 4,
 "nbformat_minor": 2
}
